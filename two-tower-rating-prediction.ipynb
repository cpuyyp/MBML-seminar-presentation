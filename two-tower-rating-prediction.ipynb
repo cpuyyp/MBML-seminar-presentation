{
 "cells": [
  {
   "cell_type": "code",
   "execution_count": 1,
   "id": "5741a67c",
   "metadata": {},
   "outputs": [],
   "source": [
    "import pandas as pd\n",
    "import collections\n",
    "import numpy as np\n",
    "from tqdm.notebook import tqdm, trange\n",
    "from sklearn import preprocessing\n",
    "from sklearn.preprocessing import MinMaxScaler\n",
    "import torch\n",
    "import torch.nn as nn\n",
    "import torch.nn.functional as F\n",
    "import torch.optim as optim\n",
    "from torch.utils.data import DataLoader, Dataset\n",
    "import matplotlib.pyplot as plt"
   ]
  },
  {
   "cell_type": "code",
   "execution_count": 2,
   "id": "3d454810",
   "metadata": {},
   "outputs": [],
   "source": [
    "device = torch.device(\"cuda:0\")\n",
    "# device = torch.device(\"cpu\")"
   ]
  },
  {
   "cell_type": "markdown",
   "id": "8cd43456",
   "metadata": {},
   "source": [
    "# A simpler version of the Two-tower Model\n",
    "\n",
    "[Sampling-Bias-Corrected Neural Modeling for Large Corpus\n",
    "Item Recommendations](https://research.google/pubs/pub48840/)\n",
    "\n",
    "\n",
    "# Goal\n",
    "\n",
    "**Given user information and movie information, predict how would the user rate the moive (1-5).**\n",
    "\n",
    "# Feature description\n",
    "There are categorical features (C) and dense features (D). For each categorical feature, I create an embedding layer. Alternatively, for genres, each movie can have more than one genre. So it a bag of categorical feature. I create an create an embeddingbag layer for it. \n",
    "\n",
    "For each table, avaiable information includes:\n",
    "\n",
    "user table:  \n",
    "- userID (C)\n",
    "- gender (C)\n",
    "- age (D)\n",
    "- occupation (C)\n",
    "- zip (not used)\n",
    "\n",
    "moive table:  \n",
    "- movieID (C)\n",
    "- title (not used)\n",
    "- genres (bag of C)\n",
    "\n",
    "rating table:  \n",
    "- userID (C)  foreign key to user.userID\n",
    "- movieID (C)  foreign key to moive.movieID\n",
    "- rating (D)  target variable\n",
    "- time (used to generate history)\n",
    "- history (generated) according to the timestamp, record user's watch history. Only keeping the last 20 movieids for effcient purpose."
   ]
  },
  {
   "cell_type": "markdown",
   "id": "a07b6661",
   "metadata": {},
   "source": [
    "# Data loading and transformations"
   ]
  },
  {
   "cell_type": "code",
   "execution_count": 3,
   "id": "cc0a6aa3",
   "metadata": {},
   "outputs": [],
   "source": [
    "df_user = pd.read_csv('./ml-1m/users.dat', sep='::', engine = 'python', names=['userid', 'gender', 'age', 'occupation', 'zip'], header=None)\n",
    "df_movie = pd.read_csv('./ml-1m/movies.dat', sep='::', engine = 'python', names=['movieid', 'title', 'genres'], header=None, encoding = \"ISO-8859-1\")\n",
    "df_rating = pd.read_csv('./ml-1m/ratings.dat', sep='::', engine = 'python', names=['userid', 'movieid', 'rating', 'time'], header=None)\n"
   ]
  },
  {
   "cell_type": "code",
   "execution_count": 4,
   "id": "5ba315ad",
   "metadata": {},
   "outputs": [
    {
     "data": {
      "text/html": [
       "<div>\n",
       "<style scoped>\n",
       "    .dataframe tbody tr th:only-of-type {\n",
       "        vertical-align: middle;\n",
       "    }\n",
       "\n",
       "    .dataframe tbody tr th {\n",
       "        vertical-align: top;\n",
       "    }\n",
       "\n",
       "    .dataframe thead th {\n",
       "        text-align: right;\n",
       "    }\n",
       "</style>\n",
       "<table border=\"1\" class=\"dataframe\">\n",
       "  <thead>\n",
       "    <tr style=\"text-align: right;\">\n",
       "      <th></th>\n",
       "      <th>userid</th>\n",
       "      <th>gender</th>\n",
       "      <th>age</th>\n",
       "      <th>occupation</th>\n",
       "      <th>zip</th>\n",
       "    </tr>\n",
       "  </thead>\n",
       "  <tbody>\n",
       "    <tr>\n",
       "      <th>0</th>\n",
       "      <td>1</td>\n",
       "      <td>F</td>\n",
       "      <td>1</td>\n",
       "      <td>10</td>\n",
       "      <td>48067</td>\n",
       "    </tr>\n",
       "    <tr>\n",
       "      <th>1</th>\n",
       "      <td>2</td>\n",
       "      <td>M</td>\n",
       "      <td>56</td>\n",
       "      <td>16</td>\n",
       "      <td>70072</td>\n",
       "    </tr>\n",
       "  </tbody>\n",
       "</table>\n",
       "</div>"
      ],
      "text/plain": [
       "   userid gender  age  occupation    zip\n",
       "0       1      F    1          10  48067\n",
       "1       2      M   56          16  70072"
      ]
     },
     "execution_count": 4,
     "metadata": {},
     "output_type": "execute_result"
    }
   ],
   "source": [
    "df_user.head(2)"
   ]
  },
  {
   "cell_type": "code",
   "execution_count": 5,
   "id": "d70ead99",
   "metadata": {},
   "outputs": [
    {
     "data": {
      "text/html": [
       "<div>\n",
       "<style scoped>\n",
       "    .dataframe tbody tr th:only-of-type {\n",
       "        vertical-align: middle;\n",
       "    }\n",
       "\n",
       "    .dataframe tbody tr th {\n",
       "        vertical-align: top;\n",
       "    }\n",
       "\n",
       "    .dataframe thead th {\n",
       "        text-align: right;\n",
       "    }\n",
       "</style>\n",
       "<table border=\"1\" class=\"dataframe\">\n",
       "  <thead>\n",
       "    <tr style=\"text-align: right;\">\n",
       "      <th></th>\n",
       "      <th>movieid</th>\n",
       "      <th>title</th>\n",
       "      <th>genres</th>\n",
       "    </tr>\n",
       "  </thead>\n",
       "  <tbody>\n",
       "    <tr>\n",
       "      <th>0</th>\n",
       "      <td>1</td>\n",
       "      <td>Toy Story (1995)</td>\n",
       "      <td>Animation|Children's|Comedy</td>\n",
       "    </tr>\n",
       "    <tr>\n",
       "      <th>1</th>\n",
       "      <td>2</td>\n",
       "      <td>Jumanji (1995)</td>\n",
       "      <td>Adventure|Children's|Fantasy</td>\n",
       "    </tr>\n",
       "  </tbody>\n",
       "</table>\n",
       "</div>"
      ],
      "text/plain": [
       "   movieid             title                        genres\n",
       "0        1  Toy Story (1995)   Animation|Children's|Comedy\n",
       "1        2    Jumanji (1995)  Adventure|Children's|Fantasy"
      ]
     },
     "execution_count": 5,
     "metadata": {},
     "output_type": "execute_result"
    }
   ],
   "source": [
    "df_movie.head(2)"
   ]
  },
  {
   "cell_type": "code",
   "execution_count": 6,
   "id": "42320ab0",
   "metadata": {},
   "outputs": [
    {
     "data": {
      "text/html": [
       "<div>\n",
       "<style scoped>\n",
       "    .dataframe tbody tr th:only-of-type {\n",
       "        vertical-align: middle;\n",
       "    }\n",
       "\n",
       "    .dataframe tbody tr th {\n",
       "        vertical-align: top;\n",
       "    }\n",
       "\n",
       "    .dataframe thead th {\n",
       "        text-align: right;\n",
       "    }\n",
       "</style>\n",
       "<table border=\"1\" class=\"dataframe\">\n",
       "  <thead>\n",
       "    <tr style=\"text-align: right;\">\n",
       "      <th></th>\n",
       "      <th>userid</th>\n",
       "      <th>movieid</th>\n",
       "      <th>rating</th>\n",
       "      <th>time</th>\n",
       "    </tr>\n",
       "  </thead>\n",
       "  <tbody>\n",
       "    <tr>\n",
       "      <th>0</th>\n",
       "      <td>1</td>\n",
       "      <td>1193</td>\n",
       "      <td>5</td>\n",
       "      <td>978300760</td>\n",
       "    </tr>\n",
       "    <tr>\n",
       "      <th>1</th>\n",
       "      <td>1</td>\n",
       "      <td>661</td>\n",
       "      <td>3</td>\n",
       "      <td>978302109</td>\n",
       "    </tr>\n",
       "  </tbody>\n",
       "</table>\n",
       "</div>"
      ],
      "text/plain": [
       "   userid  movieid  rating       time\n",
       "0       1     1193       5  978300760\n",
       "1       1      661       3  978302109"
      ]
     },
     "execution_count": 6,
     "metadata": {},
     "output_type": "execute_result"
    }
   ],
   "source": [
    "df_rating.head(2)"
   ]
  },
  {
   "cell_type": "code",
   "execution_count": 7,
   "id": "546008fa",
   "metadata": {},
   "outputs": [],
   "source": [
    "# transform df_user['age'] between 0 and 1\n",
    "age = df_user['age'].values.reshape(-1,1)\n",
    "scaler = preprocessing.MinMaxScaler() \n",
    "scaled_age = scaler.fit_transform(age)\n",
    "df_user['age'] = scaled_age"
   ]
  },
  {
   "cell_type": "code",
   "execution_count": 8,
   "id": "0909a0a3",
   "metadata": {},
   "outputs": [],
   "source": [
    "def toCategoricalId(df, column):\n",
    "    le = preprocessing.LabelEncoder()\n",
    "    df[column+'id'] = le.fit_transform(df[column])\n",
    "    return le"
   ]
  },
  {
   "cell_type": "code",
   "execution_count": 9,
   "id": "938680fb",
   "metadata": {},
   "outputs": [
    {
     "data": {
      "text/plain": [
       "LabelEncoder()"
      ]
     },
     "execution_count": 9,
     "metadata": {},
     "output_type": "execute_result"
    }
   ],
   "source": [
    "# process other columns in df_user\n",
    "toCategoricalId(df_user, 'userid')\n",
    "toCategoricalId(df_user, 'gender')\n",
    "toCategoricalId(df_user, 'occupation')\n"
   ]
  },
  {
   "cell_type": "code",
   "execution_count": 10,
   "id": "d591ead1",
   "metadata": {
    "scrolled": true
   },
   "outputs": [],
   "source": [
    "# process df_movie['genres'] column\n",
    "# the genres column is special. \n",
    "# Each movie has at least 1 genre and at most 6 (in this particular dataset).\n",
    "# Either pick the first genre or make it a list of genres and take average genre embedding.\n",
    "le = preprocessing.LabelEncoder()\n",
    "le.fit([item for sublist in df_movie['genres'].str.split('|') for item in sublist])\n",
    "genresids = []\n",
    "for genres in df_movie['genres'].str.split('|'):\n",
    "    genresids.append(le.transform(genres).tolist())\n",
    "df_movie['genresids'] = genresids"
   ]
  },
  {
   "cell_type": "code",
   "execution_count": 11,
   "id": "f84831c0",
   "metadata": {},
   "outputs": [
    {
     "data": {
      "text/plain": [
       "18"
      ]
     },
     "execution_count": 11,
     "metadata": {},
     "output_type": "execute_result"
    }
   ],
   "source": [
    "num_genres=len(le.classes_)\n",
    "num_genres"
   ]
  },
  {
   "cell_type": "code",
   "execution_count": 12,
   "id": "08288c6b",
   "metadata": {},
   "outputs": [],
   "source": [
    "# process df_movie['title'] column\n",
    "# I notice the title always comes with the release year, which is also helpful information\n",
    "name_and_year = df_movie['title'].str.findall(r'(.*)\\((.*)\\)').map(lambda x: list(x[0]))\n",
    "name_and_year = np.array(name_and_year.values.tolist())\n",
    "df_movie['puretitle'] = name_and_year[:,0]\n",
    "df_movie['year'] = name_and_year[:,1]\n",
    "df_movie['year'] = df_movie['year'].map(int)\n",
    "\n",
    "year = df_movie['year'].values.reshape(-1,1)\n",
    "scaler = preprocessing.MinMaxScaler() \n",
    "scaled_year = scaler.fit_transform(year)\n",
    "df_movie['year'] = scaled_year"
   ]
  },
  {
   "cell_type": "code",
   "execution_count": 13,
   "id": "da4619a0",
   "metadata": {},
   "outputs": [],
   "source": [
    "le = toCategoricalId(df_movie, 'movieid') # use the same le to transform movieid\n",
    "df_rating['movieid'+'id'] = le.transform(df_rating['movieid'])"
   ]
  },
  {
   "cell_type": "code",
   "execution_count": 14,
   "id": "65279070",
   "metadata": {},
   "outputs": [],
   "source": [
    "# sort by time\n",
    "df_rating = df_rating.sort_values(by=['userid','time'])\n",
    "df_rating = df_rating.reset_index(drop=True)"
   ]
  },
  {
   "cell_type": "code",
   "execution_count": 15,
   "id": "5b8a27cc",
   "metadata": {},
   "outputs": [
    {
     "data": {
      "application/vnd.jupyter.widget-view+json": {
       "model_id": "397bd5d2a74643b4ab9806ba5d3e5468",
       "version_major": 2,
       "version_minor": 0
      },
      "text/plain": [
       "  0%|          | 0/1000209 [00:00<?, ?it/s]"
      ]
     },
     "metadata": {},
     "output_type": "display_data"
    }
   ],
   "source": [
    "histories = []\n",
    "curr_user = -1\n",
    "curr_history = []\n",
    "for i in trange(len(df_rating)):\n",
    "    row = df_rating.iloc[i]\n",
    "    histories.append(curr_history)\n",
    "    if curr_user != row['userid']:\n",
    "        curr_user = row['userid']\n",
    "        curr_history = []\n",
    "    curr_history = curr_history.copy()\n",
    "    curr_history.append(row['movieidid'])\n",
    "\n",
    "df_rating['history'] = histories"
   ]
  },
  {
   "cell_type": "code",
   "execution_count": 16,
   "id": "1a962708",
   "metadata": {},
   "outputs": [
    {
     "data": {
      "text/html": [
       "<div>\n",
       "<style scoped>\n",
       "    .dataframe tbody tr th:only-of-type {\n",
       "        vertical-align: middle;\n",
       "    }\n",
       "\n",
       "    .dataframe tbody tr th {\n",
       "        vertical-align: top;\n",
       "    }\n",
       "\n",
       "    .dataframe thead th {\n",
       "        text-align: right;\n",
       "    }\n",
       "</style>\n",
       "<table border=\"1\" class=\"dataframe\">\n",
       "  <thead>\n",
       "    <tr style=\"text-align: right;\">\n",
       "      <th></th>\n",
       "      <th>userid</th>\n",
       "      <th>movieid</th>\n",
       "      <th>rating</th>\n",
       "      <th>time</th>\n",
       "      <th>movieidid</th>\n",
       "      <th>history</th>\n",
       "    </tr>\n",
       "  </thead>\n",
       "  <tbody>\n",
       "    <tr>\n",
       "      <th>0</th>\n",
       "      <td>1</td>\n",
       "      <td>3186</td>\n",
       "      <td>4</td>\n",
       "      <td>978300019</td>\n",
       "      <td>3117</td>\n",
       "      <td>[]</td>\n",
       "    </tr>\n",
       "    <tr>\n",
       "      <th>1</th>\n",
       "      <td>1</td>\n",
       "      <td>1270</td>\n",
       "      <td>5</td>\n",
       "      <td>978300055</td>\n",
       "      <td>1250</td>\n",
       "      <td>[3117]</td>\n",
       "    </tr>\n",
       "    <tr>\n",
       "      <th>2</th>\n",
       "      <td>1</td>\n",
       "      <td>1721</td>\n",
       "      <td>4</td>\n",
       "      <td>978300055</td>\n",
       "      <td>1672</td>\n",
       "      <td>[3117, 1250]</td>\n",
       "    </tr>\n",
       "    <tr>\n",
       "      <th>3</th>\n",
       "      <td>1</td>\n",
       "      <td>1022</td>\n",
       "      <td>5</td>\n",
       "      <td>978300055</td>\n",
       "      <td>1009</td>\n",
       "      <td>[3117, 1250, 1672]</td>\n",
       "    </tr>\n",
       "    <tr>\n",
       "      <th>4</th>\n",
       "      <td>1</td>\n",
       "      <td>2340</td>\n",
       "      <td>3</td>\n",
       "      <td>978300103</td>\n",
       "      <td>2271</td>\n",
       "      <td>[3117, 1250, 1672, 1009]</td>\n",
       "    </tr>\n",
       "    <tr>\n",
       "      <th>...</th>\n",
       "      <td>...</td>\n",
       "      <td>...</td>\n",
       "      <td>...</td>\n",
       "      <td>...</td>\n",
       "      <td>...</td>\n",
       "      <td>...</td>\n",
       "    </tr>\n",
       "    <tr>\n",
       "      <th>1000204</th>\n",
       "      <td>6040</td>\n",
       "      <td>2917</td>\n",
       "      <td>4</td>\n",
       "      <td>997454429</td>\n",
       "      <td>2848</td>\n",
       "      <td>[847, 589, 2315, 1892, 1950, 569, 1395, 211, 3...</td>\n",
       "    </tr>\n",
       "    <tr>\n",
       "      <th>1000205</th>\n",
       "      <td>6040</td>\n",
       "      <td>1921</td>\n",
       "      <td>4</td>\n",
       "      <td>997454464</td>\n",
       "      <td>1852</td>\n",
       "      <td>[847, 589, 2315, 1892, 1950, 569, 1395, 211, 3...</td>\n",
       "    </tr>\n",
       "    <tr>\n",
       "      <th>1000206</th>\n",
       "      <td>6040</td>\n",
       "      <td>1784</td>\n",
       "      <td>3</td>\n",
       "      <td>997454464</td>\n",
       "      <td>1726</td>\n",
       "      <td>[847, 589, 2315, 1892, 1950, 569, 1395, 211, 3...</td>\n",
       "    </tr>\n",
       "    <tr>\n",
       "      <th>1000207</th>\n",
       "      <td>6040</td>\n",
       "      <td>161</td>\n",
       "      <td>3</td>\n",
       "      <td>997454486</td>\n",
       "      <td>159</td>\n",
       "      <td>[847, 589, 2315, 1892, 1950, 569, 1395, 211, 3...</td>\n",
       "    </tr>\n",
       "    <tr>\n",
       "      <th>1000208</th>\n",
       "      <td>6040</td>\n",
       "      <td>1221</td>\n",
       "      <td>4</td>\n",
       "      <td>998315055</td>\n",
       "      <td>1203</td>\n",
       "      <td>[847, 589, 2315, 1892, 1950, 569, 1395, 211, 3...</td>\n",
       "    </tr>\n",
       "  </tbody>\n",
       "</table>\n",
       "<p>1000209 rows × 6 columns</p>\n",
       "</div>"
      ],
      "text/plain": [
       "         userid  movieid  rating       time  movieidid  \\\n",
       "0             1     3186       4  978300019       3117   \n",
       "1             1     1270       5  978300055       1250   \n",
       "2             1     1721       4  978300055       1672   \n",
       "3             1     1022       5  978300055       1009   \n",
       "4             1     2340       3  978300103       2271   \n",
       "...         ...      ...     ...        ...        ...   \n",
       "1000204    6040     2917       4  997454429       2848   \n",
       "1000205    6040     1921       4  997454464       1852   \n",
       "1000206    6040     1784       3  997454464       1726   \n",
       "1000207    6040      161       3  997454486        159   \n",
       "1000208    6040     1221       4  998315055       1203   \n",
       "\n",
       "                                                   history  \n",
       "0                                                       []  \n",
       "1                                                   [3117]  \n",
       "2                                             [3117, 1250]  \n",
       "3                                       [3117, 1250, 1672]  \n",
       "4                                 [3117, 1250, 1672, 1009]  \n",
       "...                                                    ...  \n",
       "1000204  [847, 589, 2315, 1892, 1950, 569, 1395, 211, 3...  \n",
       "1000205  [847, 589, 2315, 1892, 1950, 569, 1395, 211, 3...  \n",
       "1000206  [847, 589, 2315, 1892, 1950, 569, 1395, 211, 3...  \n",
       "1000207  [847, 589, 2315, 1892, 1950, 569, 1395, 211, 3...  \n",
       "1000208  [847, 589, 2315, 1892, 1950, 569, 1395, 211, 3...  \n",
       "\n",
       "[1000209 rows x 6 columns]"
      ]
     },
     "execution_count": 16,
     "metadata": {},
     "output_type": "execute_result"
    }
   ],
   "source": [
    "df_rating"
   ]
  },
  {
   "cell_type": "code",
   "execution_count": 17,
   "id": "5846ada1",
   "metadata": {},
   "outputs": [],
   "source": [
    "# merge together\n",
    "# transform ratings into the range of [0,1]\n",
    "df = pd.merge(pd.merge(df_rating, df_user, on=['userid']), df_movie, on=['movieid'])\n",
    "df.drop(columns=['userid','movieid', 'gender', 'occupation', 'zip', 'genres', 'time', 'title'], inplace=True)\n",
    "df['rating'] = df['rating'].map(lambda x: (x-1.)/4.)"
   ]
  },
  {
   "cell_type": "code",
   "execution_count": 18,
   "id": "961d1782",
   "metadata": {},
   "outputs": [],
   "source": [
    "df = df.drop(columns=['movieidid_y'])\n",
    "df = df.rename(columns={\"movieidid_x\": \"movieidid\"})"
   ]
  },
  {
   "cell_type": "code",
   "execution_count": 19,
   "id": "182763cc",
   "metadata": {
    "scrolled": true
   },
   "outputs": [
    {
     "data": {
      "text/html": [
       "<div>\n",
       "<style scoped>\n",
       "    .dataframe tbody tr th:only-of-type {\n",
       "        vertical-align: middle;\n",
       "    }\n",
       "\n",
       "    .dataframe tbody tr th {\n",
       "        vertical-align: top;\n",
       "    }\n",
       "\n",
       "    .dataframe thead th {\n",
       "        text-align: right;\n",
       "    }\n",
       "</style>\n",
       "<table border=\"1\" class=\"dataframe\">\n",
       "  <thead>\n",
       "    <tr style=\"text-align: right;\">\n",
       "      <th></th>\n",
       "      <th>rating</th>\n",
       "      <th>movieidid</th>\n",
       "      <th>history</th>\n",
       "      <th>age</th>\n",
       "      <th>useridid</th>\n",
       "      <th>genderid</th>\n",
       "      <th>occupationid</th>\n",
       "      <th>genresids</th>\n",
       "      <th>puretitle</th>\n",
       "      <th>year</th>\n",
       "    </tr>\n",
       "  </thead>\n",
       "  <tbody>\n",
       "    <tr>\n",
       "      <th>0</th>\n",
       "      <td>0.75</td>\n",
       "      <td>3117</td>\n",
       "      <td>[]</td>\n",
       "      <td>0.000000</td>\n",
       "      <td>0</td>\n",
       "      <td>0</td>\n",
       "      <td>10</td>\n",
       "      <td>[7]</td>\n",
       "      <td>Girl, Interrupted</td>\n",
       "      <td>0.987654</td>\n",
       "    </tr>\n",
       "    <tr>\n",
       "      <th>1</th>\n",
       "      <td>0.75</td>\n",
       "      <td>3117</td>\n",
       "      <td>[1192, 109, 896, 3412, 1533, 476, 585, 389, 19...</td>\n",
       "      <td>0.436364</td>\n",
       "      <td>7</td>\n",
       "      <td>1</td>\n",
       "      <td>12</td>\n",
       "      <td>[7]</td>\n",
       "      <td>Girl, Interrupted</td>\n",
       "      <td>0.987654</td>\n",
       "    </tr>\n",
       "    <tr>\n",
       "      <th>2</th>\n",
       "      <td>0.50</td>\n",
       "      <td>3117</td>\n",
       "      <td>[3032, 523, 1668, 3327, 2748, 1192, 1178, 1207...</td>\n",
       "      <td>0.800000</td>\n",
       "      <td>32</td>\n",
       "      <td>1</td>\n",
       "      <td>3</td>\n",
       "      <td>[7]</td>\n",
       "      <td>Girl, Interrupted</td>\n",
       "      <td>0.987654</td>\n",
       "    </tr>\n",
       "  </tbody>\n",
       "</table>\n",
       "</div>"
      ],
      "text/plain": [
       "   rating  movieidid                                            history  \\\n",
       "0    0.75       3117                                                 []   \n",
       "1    0.75       3117  [1192, 109, 896, 3412, 1533, 476, 585, 389, 19...   \n",
       "2    0.50       3117  [3032, 523, 1668, 3327, 2748, 1192, 1178, 1207...   \n",
       "\n",
       "        age  useridid  genderid  occupationid genresids           puretitle  \\\n",
       "0  0.000000         0         0            10       [7]  Girl, Interrupted    \n",
       "1  0.436364         7         1            12       [7]  Girl, Interrupted    \n",
       "2  0.800000        32         1             3       [7]  Girl, Interrupted    \n",
       "\n",
       "       year  \n",
       "0  0.987654  \n",
       "1  0.987654  \n",
       "2  0.987654  "
      ]
     },
     "execution_count": 19,
     "metadata": {},
     "output_type": "execute_result"
    }
   ],
   "source": [
    "df.head(3)"
   ]
  },
  {
   "cell_type": "code",
   "execution_count": 92,
   "id": "82b353c3",
   "metadata": {},
   "outputs": [],
   "source": [
    "df['rating'] = df['rating']*4+1"
   ]
  },
  {
   "cell_type": "code",
   "execution_count": 28,
   "id": "d5c61e05",
   "metadata": {},
   "outputs": [],
   "source": [
    "# df.to_csv('combined.csv')"
   ]
  },
  {
   "cell_type": "code",
   "execution_count": 93,
   "id": "b0b39db3",
   "metadata": {},
   "outputs": [],
   "source": [
    "num_gender = df['genderid'].max() + 1\n",
    "num_user = df['useridid'].max() + 1\n",
    "num_occupation= df['occupationid'].max() + 1\n",
    "num_movie = df['movieidid'].max() + 1\n",
    "num_ratings = len(df)"
   ]
  },
  {
   "cell_type": "code",
   "execution_count": 94,
   "id": "3d8cea4b",
   "metadata": {},
   "outputs": [
    {
     "data": {
      "text/plain": [
       "(2, 6040, 21, 3883, 18, 1000209)"
      ]
     },
     "execution_count": 94,
     "metadata": {},
     "output_type": "execute_result"
    }
   ],
   "source": [
    "num_gender, num_user, num_occupation, num_movie, num_genres, num_ratings"
   ]
  },
  {
   "cell_type": "markdown",
   "id": "6c5334eb",
   "metadata": {},
   "source": [
    "# Train/test split, customize dataset and dataloader"
   ]
  },
  {
   "cell_type": "code",
   "execution_count": 95,
   "id": "24b4bd68",
   "metadata": {},
   "outputs": [],
   "source": [
    "# 0.8, 0.2 split\n",
    "train_df=df.sample(frac=0.8) \n",
    "test_df=df.drop(train_df.index)"
   ]
  },
  {
   "cell_type": "code",
   "execution_count": 96,
   "id": "4e614a7a",
   "metadata": {},
   "outputs": [],
   "source": [
    "class CustomDataset(Dataset):\n",
    "    def __init__(self, X, Y):\n",
    "        self.X = X\n",
    "        self.Y = Y\n",
    "\n",
    "    def __len__(self):\n",
    "        return len(self.X)\n",
    "\n",
    "    def __getitem__(self, idx):\n",
    "        data = self.X.iloc[idx].to_dict()\n",
    "        label = self.Y.iloc[idx]\n",
    "        return data, label"
   ]
  },
  {
   "cell_type": "code",
   "execution_count": 97,
   "id": "3d10d9cc",
   "metadata": {},
   "outputs": [],
   "source": [
    "# a helper function for collate_fn used in DataLoader\n",
    "# this function convert list into torch.Tensor and also move it to target device\n",
    "# it also pads 'num_genres' to make genresids a valid tensor. 'num_genres' will be skipped in the EmbeddingBag layer\n",
    "def df2pt(dic):\n",
    "    for k in dic:\n",
    "        if k == 'genresids':\n",
    "            batch = dic[k]\n",
    "            max_cols = max([len(row[-20:]) for row in batch])\n",
    "            padded = []\n",
    "            for i in range(len(batch)):\n",
    "                padded.append( batch[i][-20:] + [num_genres]*(max_cols-len(batch[i][-20:])))\n",
    "            dic[k] = torch.LongTensor(padded).to(device)\n",
    "        elif  k =='history':\n",
    "            batch = dic[k]\n",
    "            max_cols = max([len(row[-20:]) for row in batch])\n",
    "            padded = []\n",
    "            for i in range(len(batch)):\n",
    "                padded.append( batch[i][-20:] + [num_movie]*(max_cols-len(batch[i][-20:])))\n",
    "            dic[k] = torch.LongTensor(padded).to(device)\n",
    "        elif 'id' in k:\n",
    "            dic[k] = torch.LongTensor(dic[k]).to(device)\n",
    "        else:\n",
    "            dic[k] = torch.Tensor([dic[k]]).T.to(device)\n",
    "    return dic"
   ]
  },
  {
   "cell_type": "code",
   "execution_count": 98,
   "id": "596c5685",
   "metadata": {},
   "outputs": [],
   "source": [
    "# self define how to load each batch\n",
    "def collate_fn(batch):\n",
    "    batch_size = len(batch)\n",
    "    batch_X = collections.defaultdict(list)\n",
    "    batch_Y = []\n",
    "    \n",
    "    for i in range(batch_size):\n",
    "        data, label = batch[i]\n",
    "        for key in data:\n",
    "            batch_X[key].append(data[key])\n",
    "        batch_Y.append(label)\n",
    "    batch_X = df2pt(batch_X)\n",
    "    batch_Y = torch.Tensor(batch_Y).to(device)\n",
    "    return batch_X, batch_Y\n"
   ]
  },
  {
   "cell_type": "code",
   "execution_count": 99,
   "id": "58235df5",
   "metadata": {},
   "outputs": [],
   "source": [
    "# train_dataset and train_dataloader\n",
    "# X = train_df.drop(columns=['rating']) # title can be put into bert and get a feature vector\n",
    "X = train_df.drop(columns=['rating','puretitle'])\n",
    "Y = train_df['rating']\n",
    "train_dataset = CustomDataset(X,Y)\n",
    "train_dataloader = DataLoader(train_dataset, batch_size=64, shuffle=True, collate_fn=collate_fn)\n"
   ]
  },
  {
   "cell_type": "code",
   "execution_count": 100,
   "id": "07dd8162",
   "metadata": {},
   "outputs": [],
   "source": [
    "# test_dataset and test_dataloader\n",
    "# test_X = test_df.drop(columns=['rating']) # title can be put into bert and get a feature vector\n",
    "test_X = test_df.drop(columns=['rating','puretitle'])\n",
    "test_Y = test_df['rating']\n",
    "test_dataset = CustomDataset(test_X,test_Y)\n",
    "test_dataloader = DataLoader(test_dataset, batch_size=64, shuffle=True, collate_fn=collate_fn)\n"
   ]
  },
  {
   "cell_type": "markdown",
   "id": "1d7e67e0",
   "metadata": {},
   "source": [
    "# model "
   ]
  },
  {
   "cell_type": "code",
   "execution_count": 125,
   "id": "fa8fd3f7",
   "metadata": {},
   "outputs": [],
   "source": [
    "class TwoTower(nn.Module):\n",
    "    def __init__(self, fclayers = 2, activation = 'relu'):\n",
    "        super().__init__()\n",
    "        assert fclayers in [1,2], 'fclayers not implemented'\n",
    "        self.fclayers = fclayers\n",
    "        assert activation in ['relu','tanh', 'sigmoid'], 'activation not implemented'\n",
    "        if activation == 'relu':\n",
    "            self.activation = nn.ReLU()\n",
    "        elif activation == 'tanh':\n",
    "            self.activation = nn.Tanh()\n",
    "        else:\n",
    "            self.activation = nn.Sigmoid()\n",
    "            \n",
    "        # user tower\n",
    "        self.userid_emb_layer = nn.Embedding(num_user,100)\n",
    "        self.gender_emb_layer = nn.Embedding(num_gender,2)        \n",
    "        self.age_layer = nn.Linear(1,1)        \n",
    "        self.occupation_emb_layer = nn.Embedding(num_occupation,4) \n",
    "        self.user_fc1 = nn.Linear(207, 64) # 100 + 2 + 1 + 4 + 100\n",
    "        self.user_fc2 = nn.Linear(64, 32)\n",
    "        \n",
    "        # movie tower\n",
    "        self.movieid_emb_layer = nn.Embedding(num_movie+1,100, padding_idx=num_movie)\n",
    "        self.genre_emb_layer = nn.EmbeddingBag(num_genres+1, 4, mode = 'mean', padding_idx=num_genres)\n",
    "        self.year_layer = nn.Linear(1,1)\n",
    "        self.movie_fc1 = nn.Linear(105, 64)\n",
    "        self.movie_fc2 = nn.Linear(64, 32)\n",
    "        \n",
    "    def forward(self, useridid, genderid, age, history, occupationid, genresids, movieidid, year):\n",
    "        # user infos\n",
    "        userid_emb = self.userid_emb_layer(useridid)\n",
    "        gender_emb = self.gender_emb_layer(genderid)\n",
    "        age_emb = self.age_layer(age)        \n",
    "        occupation_emb = self.occupation_emb_layer(occupationid)  \n",
    "        \n",
    "        # self made embeddingbag for history\n",
    "        history_embs = self.movieid_emb_layer(history)\n",
    "        batch_history_count = torch.clip((history != num_movie).sum(axis = 1), min=1.).repeat(100, 1).T\n",
    "        history_emb = history_embs.sum(axis = 1)/batch_history_count\n",
    "        \n",
    "        user_emb = torch.cat((userid_emb, gender_emb, age_emb, occupation_emb, history_emb), -1)\n",
    "        \n",
    "        # movie infos\n",
    "        movieid_emb = self.movieid_emb_layer(movieidid)\n",
    "        genre_emb = self.genre_emb_layer(genresids)\n",
    "        year_emb = self.year_layer(year)\n",
    "        \n",
    "        movie_emb = torch.cat((movieid_emb, genre_emb, year_emb), -1)\n",
    "        \n",
    "        if self.fclayers == 2:\n",
    "            user_emb = self.activation(self.user_fc1(user_emb))\n",
    "            user_emb = self.activation(self.user_fc2(user_emb))\n",
    "            movie_emb = self.activation(self.movie_fc1(movie_emb))\n",
    "            movie_emb = self.activation(self.movie_fc2(movie_emb))\n",
    "        elif self.fclayers == 1:\n",
    "            user_emb = self.activation(self.user_fc1(user_emb))\n",
    "            movie_emb = self.activation(self.movie_fc1(movie_emb))\n",
    "        else:\n",
    "            user_emb = self.activation(user_emb)\n",
    "            movie_emb = self.activation(movie_emb)\n",
    "        # l2 norm, dot product, and output\n",
    "#         user_emb = (user_emb.T/torch.norm(user_emb, dim=1)).T\n",
    "#         movie_emb = (movie_emb.T/torch.norm(movie_emb, dim=1)).T\n",
    "        \n",
    "        out = torch.sum(user_emb*movie_emb, -1)\n",
    "#         out = self.activation(out)\n",
    "#         out = torch.sigmoid(out)\n",
    "        out = torch.relu(out)\n",
    "        \n",
    "        return out"
   ]
  },
  {
   "cell_type": "code",
   "execution_count": 126,
   "id": "811f09f2",
   "metadata": {},
   "outputs": [],
   "source": [
    "twotower = TwoTower(fclayers = 2, activation = 'relu')\n",
    "twotower = twotower.to(device)"
   ]
  },
  {
   "cell_type": "code",
   "execution_count": 127,
   "id": "a7a41867",
   "metadata": {},
   "outputs": [],
   "source": [
    "loss_fn = nn.MSELoss()\n",
    "optimizer = optim.SGD(twotower.parameters(), lr=0.002, momentum=0.05)\n",
    "# optimizer = optim.Adam(twotower.parameters(), lr=0.005)\n",
    "# optimizer = optim.RMSprop(twotower.parameters(), lr=0.003)"
   ]
  },
  {
   "cell_type": "code",
   "execution_count": null,
   "id": "16ed5a34",
   "metadata": {},
   "outputs": [],
   "source": []
  },
  {
   "cell_type": "code",
   "execution_count": 128,
   "id": "d87c04b6",
   "metadata": {
    "scrolled": false
   },
   "outputs": [
    {
     "name": "stdout",
     "output_type": "stream",
     "text": [
      "iter: 0/12503, tr_loss: 13.728534698486328\n",
      "iter: 500/12503, tr_loss: 1.2019962072372437\n",
      "iter: 1000/12503, tr_loss: 1.4604352712631226\n",
      "iter: 1500/12503, tr_loss: 1.0942646265029907\n",
      "iter: 2000/12503, tr_loss: 1.2681233882904053\n",
      "iter: 2500/12503, tr_loss: 0.8448672294616699\n",
      "iter: 3000/12503, tr_loss: 1.1146981716156006\n",
      "iter: 3500/12503, tr_loss: 0.9369009733200073\n",
      "iter: 4000/12503, tr_loss: 0.9921917915344238\n",
      "iter: 4500/12503, tr_loss: 0.8940247297286987\n",
      "iter: 5000/12503, tr_loss: 0.8739302754402161\n",
      "iter: 5500/12503, tr_loss: 1.012089729309082\n",
      "iter: 6000/12503, tr_loss: 1.056225299835205\n",
      "iter: 6500/12503, tr_loss: 0.6917968392372131\n",
      "iter: 7000/12503, tr_loss: 1.1450015306472778\n",
      "iter: 7500/12503, tr_loss: 0.9388798475265503\n",
      "iter: 8000/12503, tr_loss: 0.9819841384887695\n",
      "iter: 8500/12503, tr_loss: 1.507707118988037\n",
      "iter: 9000/12503, tr_loss: 0.7535656690597534\n",
      "iter: 9500/12503, tr_loss: 0.869304895401001\n",
      "iter: 10000/12503, tr_loss: 0.805438756942749\n",
      "iter: 10500/12503, tr_loss: 0.9539083242416382\n",
      "iter: 11000/12503, tr_loss: 1.0435954332351685\n",
      "iter: 11500/12503, tr_loss: 0.7759619951248169\n",
      "iter: 12000/12503, tr_loss: 0.9446678161621094\n",
      "iter: 12500/12503, tr_loss: 0.8343901634216309\n"
     ]
    }
   ],
   "source": [
    "train_losses = []\n",
    "test_losses = []\n",
    "for i_batch, sample_batched in enumerate(train_dataloader):\n",
    "    data, label = sample_batched\n",
    "    y_pred = twotower(**data)\n",
    "    loss = loss_fn(y_pred, label)\n",
    "    train_losses.append(loss.item())\n",
    "    optimizer.zero_grad()\n",
    "    loss.backward()\n",
    "    optimizer.step()\n",
    "    \n",
    "    if i_batch%500 == 0:\n",
    "        print(f'iter: {i_batch}/{len(train_dataloader)}, tr_loss: {loss}')    "
   ]
  },
  {
   "cell_type": "code",
   "execution_count": 130,
   "id": "dafbd0bf",
   "metadata": {
    "scrolled": false
   },
   "outputs": [
    {
     "name": "stdout",
     "output_type": "stream",
     "text": [
      "test_loss 1.0008960962295532\n"
     ]
    }
   ],
   "source": [
    "twotower.eval()\n",
    "test_loss = 0\n",
    "test_size = 0\n",
    "for j_batch, test_batch in enumerate(test_dataloader):\n",
    "    data, label = test_batch\n",
    "    y_pred = twotower(**data)\n",
    "    loss = loss_fn(y_pred, label)\n",
    "    if not torch.isnan(loss):\n",
    "        test_loss += loss * len(label)\n",
    "        test_size += len(label)\n",
    "avg_test_loss = test_loss / test_size\n",
    "print('test_loss',avg_test_loss.item())"
   ]
  },
  {
   "cell_type": "code",
   "execution_count": 131,
   "id": "6b8371cb",
   "metadata": {},
   "outputs": [
    {
     "data": {
      "text/plain": [
       "(tensor([4., 4., 2., 4., 3., 4., 4., 5., 4., 3., 3., 4., 3., 1., 2., 4., 4., 2.,\n",
       "         4., 5., 1., 4., 5., 5., 4., 3., 4., 5., 3., 3., 3., 1., 4., 4., 5., 3.,\n",
       "         3., 4., 2., 4., 3., 4.], device='cuda:0'),\n",
       " tensor([3.7039, 3.1175, 3.3328, 3.3899, 2.7761, 4.1400, 2.9915, 4.3202, 4.1007,\n",
       "         3.6889, 3.0198, 4.0283, 3.7854, 3.0865, 3.9929, 3.5580, 3.7590, 2.8136,\n",
       "         2.9202, 3.6059, 2.9749, 3.3672, 4.2273, 3.5313, 4.3427, 3.0899, 4.0757,\n",
       "         3.9177, 3.0930, 3.0356, 3.0852, 4.1807, 3.6799, 3.0795, 4.1536, 3.1146,\n",
       "         3.3371, 3.1619, 3.9560, 3.2734, 3.7010, 3.4955], device='cuda:0',\n",
       "        grad_fn=<ReluBackward0>))"
      ]
     },
     "execution_count": 131,
     "metadata": {},
     "output_type": "execute_result"
    }
   ],
   "source": [
    "label, y_pred"
   ]
  },
  {
   "cell_type": "code",
   "execution_count": 132,
   "id": "1e12d378",
   "metadata": {},
   "outputs": [
    {
     "data": {
      "text/plain": [
       "tensor(1.0501, device='cuda:0', grad_fn=<MseLossBackward0>)"
      ]
     },
     "execution_count": 132,
     "metadata": {},
     "output_type": "execute_result"
    }
   ],
   "source": [
    "loss_fn(y_pred,label)"
   ]
  },
  {
   "cell_type": "markdown",
   "id": "f7be63fd",
   "metadata": {},
   "source": [
    "# Discussion and improvements/thinking\n",
    "\n",
    "It achieves 1.0501 MSE error on testset. The best model on [paperwithcode](https://paperswithcode.com/sota/collaborative-filtering-on-movielens-1m) reports 0.8227 RMSE. So it seems that this model is not bad for my first try!\n",
    "\n",
    "There are many potential improvements.\n",
    "\n",
    "1. The user's watch-history embedding is calculated by taking the mean of most recent movies' embeddings. There are some issues:   \n",
    "- User's rating for previously watched movies is not taken into account. A negative rating may have negative effect.\n",
    "- Highly similar movies should have stronger effect than others. In reality, one may like a movie just because he/she watched a very similir movie. The attension mechanism can be applied.\n",
    "- More recent watch may matters more, too. It's possible that one would like to change a flavor after watching an action movie.\n",
    "\n",
    "2. Movie,\n",
    "- Movie titles are ignored. Titles can be feed into transformer and provides additional information.\n",
    "- Movie average rating\n",
    "- Movie actors and directors \n",
    "\n",
    "3. Users,  \n",
    "- User rating scale (some people never give 1, even if one is not satisfied with it.)\n",
    "- User connections, such as friends, may influence.\n",
    "\n",
    "In practice,  \n",
    "- A cold start problem. New users and new movies do not have accurate embeddings associated with. Data augmentation or Contrastive Learning may helps. If the history is empty, a zero tensor is not providing any information. It's even harder.\n"
   ]
  },
  {
   "cell_type": "code",
   "execution_count": null,
   "id": "74aeca75",
   "metadata": {},
   "outputs": [],
   "source": []
  }
 ],
 "metadata": {
  "kernelspec": {
   "display_name": "Python 3 (ipykernel)",
   "language": "python",
   "name": "python3"
  },
  "language_info": {
   "codemirror_mode": {
    "name": "ipython",
    "version": 3
   },
   "file_extension": ".py",
   "mimetype": "text/x-python",
   "name": "python",
   "nbconvert_exporter": "python",
   "pygments_lexer": "ipython3",
   "version": "3.9.1"
  }
 },
 "nbformat": 4,
 "nbformat_minor": 5
}
