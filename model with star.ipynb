{
 "cells": [
  {
   "cell_type": "code",
   "execution_count": 1,
   "metadata": {},
   "outputs": [],
   "source": [
    "%reset -f\n",
    "import pyro\n",
    "import pyro.infer\n",
    "import pyro.optim\n",
    "import pyro.distributions as dist\n",
    "import torch.distributions.constraints as constraints\n",
    "import torch\n",
    "import numpy as np\n",
    "import pandas as pd\n",
    "import matplotlib.pyplot as plt\n",
    "import pyro.contrib.autoguide as autoguide\n",
    "pyro.enable_validation(True)"
   ]
  },
  {
   "cell_type": "code",
   "execution_count": 2,
   "metadata": {},
   "outputs": [],
   "source": [
    "# ratings = pd.read_csv('ratings.csv')\n",
    "\n",
    "# person_index = list(ratings['userId'].value_counts().keys())\n",
    "# movie_index = list(ratings['movieId'].value_counts().keys())\n",
    "\n",
    "# num_of_users = len(person_index)\n",
    "# num_of_movies = len(movie_index)\n",
    "\n",
    "# ratings = ratings.values[:,:3]\n",
    "\n",
    "# mat  = np.zeros((num_of_users, num_of_movies))\n",
    "# for idx, rate in enumerate(ratings):\n",
    "#     if(idx%1000 == 0):\n",
    "#         print(\".\", end='')\n",
    "#     row = person_index.index(rate[0])\n",
    "#     col = movie_index.index(rate[1])\n",
    "#     mat[row][col] = rate[2]\n",
    "\n",
    "# data_truth = torch.tensor(mat)\n",
    "# torch.save(data_truth, 'data_ratings.pt')\n"
   ]
  },
  {
   "cell_type": "code",
   "execution_count": 3,
   "metadata": {},
   "outputs": [],
   "source": [
    "data_truth = torch.load('data_ratings.pt').float()"
   ]
  },
  {
   "cell_type": "code",
   "execution_count": 4,
   "metadata": {},
   "outputs": [
    {
     "data": {
      "text/plain": [
       "tensor([[5.0000, 5.0000, 5.0000,  ..., 0.0000, 0.0000, 0.0000],\n",
       "        [3.5000, 4.0000, 5.0000,  ..., 1.5000, 0.0000, 0.0000],\n",
       "        [3.0000, 5.0000, 4.0000,  ..., 0.0000, 0.0000, 0.0000],\n",
       "        ...,\n",
       "        [3.0000, 0.0000, 5.0000,  ..., 0.0000, 0.0000, 0.0000],\n",
       "        [0.0000, 0.0000, 0.0000,  ..., 0.0000, 0.0000, 0.0000],\n",
       "        [0.0000, 0.0000, 0.0000,  ..., 0.0000, 0.0000, 0.0000]])"
      ]
     },
     "execution_count": 4,
     "metadata": {},
     "output_type": "execute_result"
    }
   ],
   "source": [
    "data_truth"
   ]
  },
  {
   "cell_type": "code",
   "execution_count": 400,
   "metadata": {},
   "outputs": [],
   "source": [
    "# adding self-made mask\n",
    "num_people = 8\n",
    "num_movies = 100\n",
    "data = data_truth[:num_people,:num_movies].clone()\n",
    "data_real_missing = torch.zeros_like(data_truth[:num_people,:num_movies])\n",
    "data_real_missing[data_truth[:num_people,:num_movies]==0]=1.\n",
    "\n",
    "for i in range(num_people):\n",
    "    missing_index = np.random.choice(np.arange(0,num_movies), replace=False, size=np.random.randint(low=15, high=25))\n",
    "    for index in missing_index:\n",
    "        data[i, index] = 0.\n",
    "\n",
    "data_which_missing = torch.zeros_like(data)\n",
    "data_which_missing[data==0] = 1.\n",
    "\n",
    "# data_truth_01 = data_truth[:num_people,:num_movies].clone()\n",
    "# data_truth_01[data_truth[:num_people,:num_movies]==0] = -1\n",
    "# data_truth_01[data_truth[:num_people,:num_movies]==-1] = -2"
   ]
  },
  {
   "cell_type": "code",
   "execution_count": 401,
   "metadata": {},
   "outputs": [],
   "source": [
    "def multi_sigmoid(x, thresholds, w):\n",
    "    value = torch.tensor(0.5)\n",
    "    for threshold in thresholds:\n",
    "        value = value + 0.5 * 1/(1+torch.exp(-w*(x-threshold)))\n",
    "    return value\n",
    "thresholds = torch.arange(-9,9,2).float()\n",
    "w = torch.tensor(5.)"
   ]
  },
  {
   "cell_type": "code",
   "execution_count": 402,
   "metadata": {},
   "outputs": [
    {
     "data": {
      "image/png": "[encoded data removed]",
      "text/plain": [
       "<Figure size 432x288 with 1 Axes>"
      ]
     },
     "metadata": {},
     "output_type": "display_data"
    }
   ],
   "source": [
    "xx = torch.linspace(-20,20,1000)\n",
    "plt.plot(xx.numpy(), multi_sigmoid(xx, thresholds, w).numpy())\n",
    "plt.show()"
   ]
  },
  {
   "cell_type": "code",
   "execution_count": 403,
   "metadata": {},
   "outputs": [
    {
     "data": {
      "text/plain": [
       "torch.Size([8, 100])"
      ]
     },
     "execution_count": 403,
     "metadata": {},
     "output_type": "execute_result"
    }
   ],
   "source": [
    "data.shape"
   ]
  },
  {
   "cell_type": "code",
   "execution_count": 579,
   "metadata": {},
   "outputs": [],
   "source": [
    "def model_with_star(y, num_traits):\n",
    "    num_people, num_movies = y.shape\n",
    "    mean_pref = torch.tensor(0.)\n",
    "    std_pref = torch.tensor(1.)\n",
    "    mean_trait = torch.tensor(0.)\n",
    "    std_trait = torch.tensor(1.)\n",
    "    mean_threshold = torch.tensor(0.)\n",
    "    std_threshold = torch.tensor(1.)\n",
    "#     w = torch.tensor(0.05)\n",
    "\n",
    "    mean_w = torch.tensor(4.)\n",
    "    std_w = torch.tensor(0.1)\n",
    "    w = pyro.sample(\"w\", dist.Normal(mean_w, std_w))\n",
    "    \n",
    "    people = pyro.plate(\"people\", num_people)\n",
    "    with pyro.plate(\"traits\", num_traits):\n",
    "        with people:\n",
    "            pref = pyro.sample(\"pref\",dist.Normal(mean_pref,std_pref))\n",
    "        with pyro.plate(\"unroot_movies\", num_movies - num_traits):\n",
    "            unknown_trait = pyro.sample(\"unknown_trait\", dist.Normal(mean_trait,std_trait))\n",
    "        with pyro.plate(\"root_movies\", num_traits):\n",
    "            known_trait = pyro.sample(\"known_trait\", dist.Normal(mean_trait, std_trait), obs = torch.eye(num_traits) )\n",
    "    trait = torch.cat((known_trait, unknown_trait), 0)\n",
    "    affinity = torch.mm(pref, trait.transpose(0,1))\n",
    "    \n",
    "    with pyro.plate(\"stars\", 8):\n",
    "        thresholds = pyro.sample(\"thresholds\",dist.Normal(mean_threshold, std_threshold))\n",
    "    threshold_3star = pyro.sample(\"threshold_3star\", dist.Normal(mean_threshold, std_threshold), obs = torch.tensor(0.))\n",
    "    thresholds = torch.cat((thresholds[:4], threshold_3star.reshape((1)), thresholds[4:]))\n",
    "    \n",
    "    is_observed = (y != 0)\n",
    "    with pyro.poutine.mask(mask=is_observed):\n",
    "        with pyro.plate(\"movies\", num_movies):\n",
    "            with people:\n",
    "                noisy_affinity = pyro.sample('noisy_affinity', dist.Normal(affinity, torch.tensor(0.2)))\n",
    "#                 print('model w = ',w)\n",
    "                ms = multi_sigmoid(noisy_affinity, thresholds, w)\n",
    "                has_star = pyro.sample('has_star',dist.Normal(ms, 0.1), obs = y)\n",
    "  \n",
    "    \n",
    "# guide1 = autoguide.AutoDiagonalNormal(model_with_star)\n",
    "\n",
    "def guide(y, num_traits):\n",
    "    num_people, num_movies = y.shape\n",
    "    \n",
    "    mean_pref = pyro.param(\"mean_pref\", torch.zeros(num_people, num_traits))\n",
    "    std_pref = pyro.param(\"std_pref\", torch.ones(num_people, num_traits), constraint=constraints.positive)\n",
    "    mean_trait = pyro.param(\"mean_trait\", torch.zeros(num_movies-num_traits, num_traits))\n",
    "    std_trait = pyro.param(\"std_trait\", torch.ones(num_movies-num_traits, num_traits), constraint=constraints.positive)\n",
    "    mean_threshold = pyro.param(\"mean_threshold\", torch.zeros(8))\n",
    "    std_threshold = pyro.param(\"std_threshold\", torch.ones(8), constraint=constraints.positive)\n",
    "    \n",
    "#     print(mean_pref)\n",
    "    \n",
    "    mean_w = pyro.param(\"mean_w\", torch.tensor(5.), constraint=constraints.positive)\n",
    "    std_w = pyro.param(\"std_w\", torch.tensor(0.1), constraint=constraints.positive)\n",
    "    w = pyro.sample(\"w\", dist.Normal(mean_w, std_w))    \n",
    "    \n",
    "#     w = pyro.param(\"w\", torch.tensor(5.))\n",
    "    \n",
    "    people = pyro.plate(\"people\", num_people)\n",
    "    with pyro.plate(\"traits\", num_traits):\n",
    "        with people:\n",
    "            pref = pyro.sample(\"pref\",dist.Normal(mean_pref, std_pref))\n",
    "        with pyro.plate(\"unroot_movies\", num_movies - num_traits):\n",
    "            unknown_trait = pyro.sample(\"unknown_trait\", dist.Normal(mean_trait, std_trait))\n",
    "    known_trait = torch.eye(num_traits)\n",
    "    trait = torch.cat((known_trait, unknown_trait), 0)\n",
    "    affinity = torch.mm(pref, trait.transpose(0,1))\n",
    "\n",
    "    with pyro.plate(\"stars\", 8):\n",
    "        thresholds = pyro.sample(\"thresholds\",dist.Normal(mean_threshold, std_threshold))\n",
    "    \n",
    "    with pyro.plate(\"movies\", num_movies):\n",
    "        with people:\n",
    "            noisy_affinity = pyro.sample('noisy_affinity', dist.Normal(affinity, torch.tensor(0.2)))\n",
    "    \n",
    "    "
   ]
  },
  {
   "cell_type": "code",
   "execution_count": 580,
   "metadata": {
    "scrolled": false
   },
   "outputs": [
    {
     "name": "stdout",
     "output_type": "stream",
     "text": [
      "..................................................2642.016046524048\n"
     ]
    },
    {
     "data": {
      "image/png": "[encoded data removed]",
      "text/plain": [
       "<Figure size 576x360 with 1 Axes>"
      ]
     },
     "metadata": {},
     "output_type": "display_data"
    }
   ],
   "source": [
    "pyro.clear_param_store()\n",
    "svi = pyro.infer.SVI(model=model_with_star,\n",
    "                     guide=guide,\n",
    "#                      optim=pyro.optim.Adam({\"lr\": 0.005, \"betas\": (0.90, 0.999)}),\n",
    "                     optim=pyro.optim.SGD({\"lr\": 0.0001, \"momentum\":0.00005}),\n",
    "                     loss=pyro.infer.Trace_ELBO())\n",
    "losses =[]\n",
    "training_acc = []\n",
    "testing_acc = []\n",
    "num_steps = 5000\n",
    "num_traits = 5\n",
    "for i in range(num_steps):\n",
    "    losses.append(svi.step(data.float(), num_traits))\n",
    "    if(i%100==0):\n",
    "#         print(pyro.param(\"w\").data)\n",
    "#         print(pyro.param(\"mean_pref\").data)\n",
    "#         print(pyro.param(\"w\").data)\n",
    "#         print(losses[-1])\n",
    "#         testing_values = torch.mm(pyro.param(\"mean_pref\").data, pyro.param(\"mean_trait\").data.transpose(0,1))\n",
    "#         total = torch.sum(data_which_missing[:,num_traits:]!=data_real_missing[:,num_traits:])\n",
    "#         count = torch.sum((data_which_missing[:,num_traits:]!=data_real_missing[:,num_traits:]).float()*(data_truth_01[:,num_traits:] == torch.sign(testing_values)).float())\n",
    "#         testing_acc.append(count/total)\n",
    "#         total = torch.sum(data_which_missing[:,num_traits:]-1)\n",
    "#         count = torch.sum((data_which_missing[:,num_traits:]-1)*(data_truth_01[:,num_traits:] == torch.sign(testing_values)).float())\n",
    "#         training_acc.append(count/total)\n",
    "        print(\".\", end='')\n",
    "print(losses[-1])\n",
    "        \n",
    "plt.figure(figsize=(8,5))    \n",
    "plt.plot(losses)\n",
    "plt.title(\"ELBO\")\n",
    "plt.xlabel(\"step\")\n",
    "plt.ylabel(\"loss\")\n",
    "plt.show()\n"
   ]
  },
  {
   "cell_type": "code",
   "execution_count": 581,
   "metadata": {},
   "outputs": [
    {
     "data": {
      "text/plain": [
       "tensor(4.1247)"
      ]
     },
     "execution_count": 581,
     "metadata": {},
     "output_type": "execute_result"
    }
   ],
   "source": [
    "pyro.param(\"mean_w\").data"
   ]
  },
  {
   "cell_type": "code",
   "execution_count": 582,
   "metadata": {},
   "outputs": [
    {
     "name": "stdout",
     "output_type": "stream",
     "text": [
      "tensor(4.1247)\n",
      "tensor([-1.2903, -6.7891,  2.8987, -5.0574,  1.7641, -4.0308, -8.4852, -6.7891,\n",
      "         0.0000])\n"
     ]
    },
    {
     "data": {
      "image/png": "[encoded data removed]",
      "text/plain": [
       "<Figure size 432x288 with 1 Axes>"
      ]
     },
     "metadata": {},
     "output_type": "display_data"
    }
   ],
   "source": [
    "w = pyro.param(\"mean_w\").data\n",
    "threshold = pyro.param(\"mean_threshold\").data\n",
    "thresholds = torch.cat((pyro.param(\"mean_threshold\").data, torch.tensor([0.])))\n",
    "print(w)\n",
    "print(thresholds)\n",
    "xx = torch.linspace(-20,20,1000)\n",
    "plt.plot(xx.numpy(), multi_sigmoid(xx, thresholds, w).numpy())\n",
    "plt.show()"
   ]
  },
  {
   "cell_type": "code",
   "execution_count": 599,
   "metadata": {},
   "outputs": [
    {
     "data": {
      "image/png": "[encoded data removed]",
      "text/plain": [
       "<Figure size 1080x288 with 2 Axes>"
      ]
     },
     "metadata": {},
     "output_type": "display_data"
    },
    {
     "data": {
      "image/png": "[encoded data removed]",
      "text/plain": [
       "<Figure size 1080x288 with 2 Axes>"
      ]
     },
     "metadata": {},
     "output_type": "display_data"
    }
   ],
   "source": [
    "testing_affinity = torch.mm(pyro.param(\"mean_pref\").data, pyro.param(\"mean_trait\").data.transpose(0,1))\n",
    "thresholds = torch.cat((pyro.param(\"mean_threshold\").data, torch.tensor([0.])))\n",
    "prediction = multi_sigmoid(testing_affinity, thresholds, w)\n",
    "plt.figure(figsize=(15,4)) \n",
    "plt.imshow(prediction, cmap='rainbow', vmin=-0., vmax=5.)\n",
    "plt.colorbar()\n",
    "plt.show()\n",
    "\n",
    "plt.figure(figsize=(15,4)) \n",
    "plt.imshow(data_truth[:num_people,num_traits:num_movies], cmap='rainbow', vmin=-0., vmax=5.)\n",
    "plt.colorbar()\n",
    "plt.show()"
   ]
  },
  {
   "cell_type": "code",
   "execution_count": 600,
   "metadata": {},
   "outputs": [
    {
     "data": {
      "image/png": "[encoded data removed]",
      "text/plain": [
       "<Figure size 864x216 with 1 Axes>"
      ]
     },
     "metadata": {},
     "output_type": "display_data"
    },
    {
     "data": {
      "image/png": "[encoded data removed]",
      "text/plain": [
       "<Figure size 864x216 with 1 Axes>"
      ]
     },
     "metadata": {},
     "output_type": "display_data"
    }
   ],
   "source": [
    "plt.figure(figsize=(12,3)) \n",
    "plt.imshow(-data_which_missing[:,num_traits:]+1, cmap='binary', vmin=0, vmax=1.)\n",
    "plt.title('training set')\n",
    "plt.show()\n",
    "\n",
    "plt.figure(figsize=(12,3)) \n",
    "plt.imshow((data_which_missing[:,num_traits:]!=data_real_missing[:,num_traits:]).float(), cmap='binary', vmin=0, vmax=1.)\n",
    "plt.title('testing set')\n",
    "plt.show()\n",
    "\n"
   ]
  },
  {
   "cell_type": "code",
   "execution_count": 601,
   "metadata": {},
   "outputs": [
    {
     "name": "stdout",
     "output_type": "stream",
     "text": [
      "testing acc tensor(0.3359)\n",
      "training acc tensor(0.9140)\n"
     ]
    }
   ],
   "source": [
    "prediction_correctness = torch.zeros((num_people, num_movies - num_traits))\n",
    "for i in range(num_people):\n",
    "    for j in range(num_movies - num_traits):\n",
    "        if torch.abs(prediction[i,j] - data_truth[:num_people,num_traits:num_movies][i,j]) < 0.25:\n",
    "            prediction_correctness[i,j] = 1.\n",
    "testing_total = torch.sum(data_which_missing[:,num_traits:]!=data_real_missing[:,num_traits:])\n",
    "testing_count = torch.sum(( data_which_missing[:,num_traits:] != data_real_missing[:,num_traits:] ).float() * prediction_correctness)\n",
    "print('testing acc', testing_count/testing_total)\n",
    "training_total = torch.sum(data_which_missing[:,num_traits:]-1.)\n",
    "training_count = torch.sum(( data_which_missing[:,num_traits:]-1. ) * prediction_correctness)\n",
    "print('training acc', training_count/training_total)\n"
   ]
  },
  {
   "cell_type": "code",
   "execution_count": null,
   "metadata": {},
   "outputs": [],
   "source": []
  },
  {
   "cell_type": "code",
   "execution_count": null,
   "metadata": {},
   "outputs": [],
   "source": []
  }
 ],
 "metadata": {
  "kernelspec": {
   "display_name": "Python 3",
   "language": "python",
   "name": "python3"
  },
  "language_info": {
   "codemirror_mode": {
    "name": "ipython",
    "version": 3
   },
   "file_extension": ".py",
   "mimetype": "text/x-python",
   "name": "python",
   "nbconvert_exporter": "python",
   "pygments_lexer": "ipython3",
   "version": "3.6.7"
  }
 },
 "nbformat": 4,
 "nbformat_minor": 2
}
